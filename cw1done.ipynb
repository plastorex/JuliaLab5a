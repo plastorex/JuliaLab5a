{
 "cells": [
  {
   "cell_type": "code",
   "execution_count": 4,
   "metadata": {},
   "outputs": [
    {
     "name": "stdout",
     "output_type": "stream",
     "text": [
      "1 2 3 1 2 3 1 2 3 1 2 3 1 2 3 "
     ]
    }
   ],
   "source": [
    "function num_sync(noCycles::Int64)\n",
    "    @sync begin #@sync waits for the completion of all tasks\n",
    "        div = 1 #used for going to the next number\n",
    "        for i in 1:3 #1-3 number range\n",
    "            @async begin #wraps the expression and adds it to the scheduler as task\n",
    "                cycle=0\n",
    "                while(cycle<noCycles)\n",
    "                    if(div==i)\n",
    "                        print(i,\" \") #print the number\n",
    "                        cycle+=1\n",
    "                        div=(div%A)+1 #divisor goes to the next number\n",
    "                        yield()#goes to the next scheduled task(that will grant the sequence 1-2-3)\n",
    "                    else\n",
    "                        yield() #goes to the beginning\n",
    "                    end\n",
    "                end\n",
    "            end\n",
    "        end\n",
    "    end\n",
    "end\n",
    "\n",
    "num_sync(3,5)"
   ]
  }
 ],
 "metadata": {
  "kernelspec": {
   "display_name": "Julia 0.5.2",
   "language": "julia",
   "name": "julia-0.5"
  },
  "language_info": {
   "file_extension": ".jl",
   "mimetype": "application/julia",
   "name": "julia",
   "version": "0.5.2"
  }
 },
 "nbformat": 4,
 "nbformat_minor": 2
}
