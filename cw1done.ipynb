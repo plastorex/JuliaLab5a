{
 "cells": [
  {
   "cell_type": "code",
   "execution_count": 4,
   "metadata": {},
   "outputs": [
    {
     "name": "stdout",
     "output_type": "stream",
     "text": [
      "1 2 3 1 2 3 1 2 3 1 2 3 1 2 3 "
     ]
    }
   ],
   "source": [
    "function num_sync(noCycles::Int64)\n",
    "    @sync begin #@sync waits for the completion of all tasks\n",
    "        div = 1 #used for going to the next number\n",
    "        for i in 1:3 #1-3 number range\n",
    "            @async begin #wraps the expression and adds it to the scheduler as task\n",
    "                cycle=0\n",
    "                while(cycle<noCycles)\n",
    "                    if(div==i)\n",
    "                        print(i,\" \") #print the number\n",
    "                        cycle+=1\n",
    "                        div=(div%A)+1 #divisor goes to the next number\n",
    "                        yield()#goes to the next scheduled task(that will grant the sequence 1-2-3)\n",
    "                    else\n",
    "                        yield() #goes to the beginning\n",
    "                    end\n",
    "                end\n",
    "            end\n",
    "        end\n",
    "    end\n",
    "end\n",
    "\n",
    "num_sync(3,5)"
   ]
  },
  {
   "cell_type": "code",
   "execution_count": 1,
   "metadata": {},
   "outputs": [
    {
     "name": "stderr",
     "output_type": "stream",
     "text": [
      "\u001b[1m\u001b[34mINFO: Nothing to be done\n",
      "\u001b[0m\u001b[1m\u001b[34mINFO: METADATA is out-of-date — you may not have the latest version of Plots\n",
      "\u001b[0m\u001b[1m\u001b[34mINFO: Use `Pkg.update()` to get the latest versions of your packages\n",
      "\u001b[0m"
     ]
    }
   ],
   "source": [
    "Pkg.add(\"Plots\")"
   ]
  },
  {
   "cell_type": "code",
   "execution_count": 4,
   "metadata": {},
   "outputs": [
    {
     "name": "stderr",
     "output_type": "stream",
     "text": [
      "\u001b[1m\u001b[34mINFO: Precompiling module GR.\n",
      "\u001b[0m"
     ]
    },
    {
     "name": "stdout",
     "output_type": "stream",
     "text": [
      "-1.8019009504752377-0.8999499749874937\n",
      "  2.206585 seconds (12.04 M allocations: 673.313 MB, 9.52% gc time)\n"
     ]
    }
   ],
   "source": [
    "using Plots\n",
    "Plots.gr()\n",
    "\n",
    "function generate_julia(z; c=2, maxiter=200)\n",
    "    for i=1:maxiter\n",
    "        if abs(z) > 2\n",
    "            return i-1\n",
    "        end\n",
    "        z = z^2 + c\n",
    "    end\n",
    "    maxiter\n",
    "end\n",
    "\n",
    "function calc_julia!(julia_set, xrange, yrange; maxiter=200, height=400, width_start=1, width_end=400)\n",
    "   for x=width_start:width_end\n",
    "        for y=1:height\n",
    "            z = xrange[x] + 1im*yrange[y]\n",
    "            julia_set[x, y] = generate_julia(z, c=-0.70176-0.3842im, maxiter=maxiter)\n",
    "        end\n",
    "    end\n",
    "end\n",
    "\n",
    "\n",
    "function calc_julia_main(h,w)\n",
    "   xmin, xmax = -2,2\n",
    "   ymin, ymax = -1,1\n",
    "   xrange = linspace(xmin, xmax, w)\n",
    "   yrange = linspace(ymin, ymax, h)\n",
    "\tprintln(xrange[100],yrange[101])\n",
    "   julia_set = Array(Int64, (w, h))\n",
    "   @time calc_julia!(julia_set, xrange, yrange, height=h, width_end=w)\n",
    "\n",
    "   Plots.heatmap(xrange, yrange, julia_set)\n",
    "   png(\"julia\")\n",
    "end\n",
    "\n",
    "\n",
    "calc_julia_main(2000,2000)"
   ]
  },
  {
   "cell_type": "code",
   "execution_count": null,
   "metadata": {
    "collapsed": true
   },
   "outputs": [],
   "source": [
    "using Plots\n",
    "Plots.gr()\n",
    "\n",
    "function generate_julia(z; c=2, maxiter=200)\n",
    "    for i=1:maxiter\n",
    "        if abs(z) > 2\n",
    "            return i-1\n",
    "        end\n",
    "        z = z^2 + c\n",
    "    end\n",
    "    maxiter\n",
    "end\n",
    "\n",
    "function calc_julia!(julia_set, xrange, yrange; maxiter=200, height=400, width_start=1, width_end=400)\n",
    "   for x=width_start:width_end\n",
    "        for y=1:height\n",
    "            z = xrange[x] + 1im*yrange[y]\n",
    "            julia_set[x, y] = generate_julia(z, c=-0.70176-0.3842im, maxiter=maxiter)\n",
    "        end\n",
    "    end\n",
    "end\n",
    "\n",
    "\n",
    "function calc_julia_main(h,w)\n",
    "   xmin, xmax = -2,2\n",
    "   ymin, ymax = -1,1\n",
    "   xrange = linspace(xmin, xmax, w)\n",
    "   yrange = linspace(ymin, ymax, h)\n",
    "\tprintln(xrange[100],yrange[101])\n",
    "   julia_set = Array(Int64, (w, h))\n",
    "   @time calc_julia!(julia_set, xrange, yrange, height=h, width_end=w)\n",
    "\n",
    "   Plots.heatmap(xrange, yrange, julia_set)\n",
    "   png(\"julia\")\n",
    "end\n",
    "\n",
    "\n",
    "calc_julia_main(2000,2000)"
   ]
  }
 ],
 "metadata": {
  "kernelspec": {
   "display_name": "Julia 0.5.2",
   "language": "julia",
   "name": "julia-0.5"
  },
  "language_info": {
   "file_extension": ".jl",
   "mimetype": "application/julia",
   "name": "julia",
   "version": "0.5.2"
  }
 },
 "nbformat": 4,
 "nbformat_minor": 2
}
